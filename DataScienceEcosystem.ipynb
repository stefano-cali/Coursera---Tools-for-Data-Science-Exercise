{
 "cells": [
  {
   "cell_type": "markdown",
   "id": "0bde441e-119e-4612-a80d-a08404f97a9c",
   "metadata": {},
   "source": [
    "# Data Science Tools and Ecosystem"
   ]
  },
  {
   "cell_type": "markdown",
   "id": "8e723a9b-39f5-4d23-94c4-4f3fa9914b2c",
   "metadata": {},
   "source": [
    "## Author"
   ]
  },
  {
   "cell_type": "markdown",
   "id": "fed6d929-bebd-4a5c-b3b2-cca0c790bce3",
   "metadata": {},
   "source": [
    "Stefano Calì"
   ]
  },
  {
   "cell_type": "markdown",
   "id": "2209a80c-7e71-4eb7-8d7b-c132ac7ebf32",
   "metadata": {},
   "source": [
    "In this notebook, Data Science Tools and Ecosystem are summarized."
   ]
  },
  {
   "cell_type": "markdown",
   "id": "1d98f47b-1412-4166-9293-6318a97d8361",
   "metadata": {},
   "source": [
    "**Objectives**"
   ]
  },
  {
   "cell_type": "markdown",
   "id": "31f11e5a-520b-4453-af38-1a52d1a5e453",
   "metadata": {},
   "source": [
    "- List popular programminng languages in Data Science\n",
    "- List commonly used Python libraries in Data Science\n",
    "- List widespread development environment in Data Science\n",
    "- Practice working with a Jupyter notebook"
   ]
  },
  {
   "cell_type": "markdown",
   "id": "6f05b6fb-ba2b-44ae-87db-f4be5a315cf9",
   "metadata": {},
   "source": [
    "Some of the popular programming languages used in Data Science are:"
   ]
  },
  {
   "cell_type": "markdown",
   "id": "83c0346f-2075-47e5-915b-438bdc6eff96",
   "metadata": {},
   "source": [
    "1. Pyhton\n",
    "2. R\n",
    "3. Java\n",
    "4. C++"
   ]
  },
  {
   "cell_type": "markdown",
   "id": "5fec4037-7ed8-43e9-84ce-a7442c01bd26",
   "metadata": {},
   "source": [
    "Some of the commonly used Python libraries used in Data Science include:"
   ]
  },
  {
   "cell_type": "markdown",
   "id": "27cf5c0b-a1d4-41ae-90c7-a4fee9246e59",
   "metadata": {},
   "source": [
    "1. Panda\n",
    "2. NumPy\n",
    "3. Matplotlib\n",
    "4. TensorFlow\n",
    "5. Keras"
   ]
  },
  {
   "cell_type": "markdown",
   "id": "fcfa1153-9ef5-4d0b-b458-ddd638781e33",
   "metadata": {},
   "source": [
    "Here's a table containing some of the most used open source development environments used in Data Science:"
   ]
  },
  {
   "cell_type": "markdown",
   "id": "d14ed230-f3cd-40bc-b063-cd08d0b26f04",
   "metadata": {
    "jp-MarkdownHeadingCollapsed": true
   },
   "source": [
    "| Data Science Tools |\n",
    "|--------------------|\n",
    "|JupiterLab          |\n",
    "|R Studio            |\n",
    "|GitHub\\GitLab       |"
   ]
  },
  {
   "cell_type": "markdown",
   "id": "c448c249-0d93-4143-bcb9-f4a9d55f6f92",
   "metadata": {},
   "source": [
    "### Below are a few examples of evaluating arithmetic expressions in Python"
   ]
  },
  {
   "cell_type": "markdown",
   "id": "139eafcd-8510-49b0-95dd-3d29d1f04fb0",
   "metadata": {},
   "source": [
    "This a simple arithmetic expression that mutiplies and adds integers:"
   ]
  },
  {
   "cell_type": "code",
   "execution_count": 17,
   "id": "fa0f04b7-20d3-476c-8873-65ad6d278d92",
   "metadata": {},
   "outputs": [
    {
     "data": {
      "text/plain": [
       "17"
      ]
     },
     "execution_count": 17,
     "metadata": {},
     "output_type": "execute_result"
    }
   ],
   "source": [
    "(3*4)+5"
   ]
  },
  {
   "cell_type": "markdown",
   "id": "25dc0c68-11f2-4b6c-9826-59a9c0abe153",
   "metadata": {},
   "source": [
    "The line below converts 200 minutes into hours:"
   ]
  },
  {
   "cell_type": "code",
   "execution_count": 19,
   "id": "daa4d781-9566-4b8e-ae23-e3433f771aba",
   "metadata": {},
   "outputs": [
    {
     "data": {
      "text/plain": [
       "3.3333333333333335"
      ]
     },
     "execution_count": 19,
     "metadata": {},
     "output_type": "execute_result"
    }
   ],
   "source": [
    "200/60"
   ]
  },
  {
   "cell_type": "code",
   "execution_count": null,
   "id": "caa6f157-e402-4992-872e-f86e3b83a44f",
   "metadata": {},
   "outputs": [],
   "source": []
  }
 ],
 "metadata": {
  "kernelspec": {
   "display_name": "Python 3 (ipykernel)",
   "language": "python",
   "name": "python3"
  },
  "language_info": {
   "codemirror_mode": {
    "name": "ipython",
    "version": 3
   },
   "file_extension": ".py",
   "mimetype": "text/x-python",
   "name": "python",
   "nbconvert_exporter": "python",
   "pygments_lexer": "ipython3",
   "version": "3.12.4"
  }
 },
 "nbformat": 4,
 "nbformat_minor": 5
}
